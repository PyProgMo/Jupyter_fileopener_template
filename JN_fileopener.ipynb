{
 "cells": [
  {
   "cell_type": "code",
   "execution_count": null,
   "metadata": {},
   "outputs": [],
   "source": [
    "import tkinter as tk\n",
    "from tkinter import ttk\n",
    "from tkinter import filedialog\n",
    "import pandas as pd\n",
    "import matplotlib.pyplot as plt\n",
    "import matplotlib\n",
    "from scipy.interpolate import interp1d\n",
    "import numpy as np\n",
    "\n",
    "matplotlib.use('TkAgg')\n",
    "plt.ion()  # enable interactive mode for TkAgg backend\n",
    "\n",
    "SKIP_CELL = False  # Change to False to allow execution"
   ]
  },
  {
   "cell_type": "code",
   "execution_count": 2,
   "metadata": {},
   "outputs": [],
   "source": [
    "def select_directory(root, close=True):\n",
    "    \"\"\"\n",
    "    Opens a directory selection dialog and returns the selected path\n",
    "    \n",
    "    Args:\n",
    "        root: Tkinter root window\n",
    "        close: Close the root window after selection (default: True)\n",
    "        \n",
    "    Returns:\n",
    "        str: Selected directory path or empty string if cancelled\n",
    "    \"\"\"\n",
    "    directory = filedialog.askdirectory(\n",
    "        parent=root,\n",
    "        initialdir=\".\",\n",
    "        title=\"Select Directory\"\n",
    "    )\n",
    "    if close:\n",
    "        root.destroy()\n",
    "    return directory\n",
    "\n",
    "def select_files(root, close=True):\n",
    "    \"\"\"\n",
    "    Opens a file selection dialog and returns the selected paths\n",
    "    \n",
    "    Args:\n",
    "        root: Tkinter root window\n",
    "        close: Close the root window after selection (default: True)\n",
    "        \n",
    "    Returns:\n",
    "        list: Selected file paths or empty list if cancelled\n",
    "    \"\"\"\n",
    "    files = filedialog.askopenfilenames(\n",
    "        parent=root,\n",
    "        initialdir=\".\",\n",
    "        title=\"Select Files\",\n",
    "        filetypes=((\"All files\", \"*.*\"),)\n",
    "    )\n",
    "    if close:\n",
    "        root.destroy()\n",
    "    return files\n",
    "\n",
    "def getdir():\n",
    "    root = tk.Tk()\n",
    "    return select_directory(root, close=True)\n",
    "\n",
    "def getfiles():\n",
    "    root = tk.Tk()\n",
    "    return select_files(root, close=True)\n"
   ]
  },
  {
   "cell_type": "code",
   "execution_count": 3,
   "metadata": {},
   "outputs": [],
   "source": [
    "if SKIP_CELL == False:\n",
    "    d = getdir() # open dir # run this cell to open a dir and save it on the variable d\n",
    "    print(d)"
   ]
  },
  {
   "cell_type": "code",
   "execution_count": 4,
   "metadata": {},
   "outputs": [],
   "source": [
    "if SKIP_CELL == False:\n",
    "    f = getfiles() # open files # run this cell to open files and save them to the array f\n",
    "    print(len(f), f)"
   ]
  }
 ],
 "metadata": {
  "kernelspec": {
   "display_name": "Python 3",
   "language": "python",
   "name": "python3"
  },
  "language_info": {
   "codemirror_mode": {
    "name": "ipython",
    "version": 3
   },
   "file_extension": ".py",
   "mimetype": "text/x-python",
   "name": "python",
   "nbconvert_exporter": "python",
   "pygments_lexer": "ipython3",
   "version": "3.13.0"
  }
 },
 "nbformat": 4,
 "nbformat_minor": 2
}
